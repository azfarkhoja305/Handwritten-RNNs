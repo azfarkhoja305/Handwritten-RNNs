{
  "nbformat": 4,
  "nbformat_minor": 0,
  "metadata": {
    "colab": {
      "name": "Conditional.ipynb",
      "provenance": [],
      "collapsed_sections": [],
      "include_colab_link": true
    },
    "kernelspec": {
      "name": "python3",
      "display_name": "Python 3"
    },
    "accelerator": "GPU"
  },
  "cells": [
    {
      "cell_type": "markdown",
      "metadata": {
        "id": "view-in-github",
        "colab_type": "text"
      },
      "source": [
        "<a href=\"https://colab.research.google.com/github/azfarkhoja305/Handwritten-RNNs/blob/master/Conditional.ipynb\" target=\"_parent\"><img src=\"https://colab.research.google.com/assets/colab-badge.svg\" alt=\"Open In Colab\"/></a>"
      ]
    },
    {
      "cell_type": "code",
      "metadata": {
        "id": "fUsVsvNOgIKr",
        "colab_type": "code",
        "colab": {}
      },
      "source": [
        "!git clone https://github.com/azfarkhoja305/Handwritten-RNNs.git"
      ],
      "execution_count": 0,
      "outputs": []
    },
    {
      "cell_type": "code",
      "metadata": {
        "id": "WT3NKbs_gOGI",
        "colab_type": "code",
        "colab": {}
      },
      "source": [
        "import random\n",
        "import math\n",
        "import pdb\n",
        "import copy\n",
        "import numpy as np\n",
        "import torch\n",
        "import torch.nn as nn\n",
        "from torch.utils.data import Dataset,DataLoader\n",
        "from pathlib import Path\n",
        "from tqdm.notebook import tqdm\n",
        "import matplotlib.pyplot as plt\n",
        "\n",
        "import sys\n",
        "sys.path.insert(0,'./Handwritten-RNNs/Handwritten-RNNs')\n",
        "\n",
        "from utils import *\n",
        "from utils.other_utils import *\n",
        "from models.synthesis import Synthesis"
      ],
      "execution_count": 0,
      "outputs": []
    },
    {
      "cell_type": "code",
      "metadata": {
        "id": "vCvJ4QNpgTxl",
        "colab_type": "code",
        "colab": {}
      },
      "source": [
        "Path.ls = lambda x : list(x.iterdir())"
      ],
      "execution_count": 0,
      "outputs": []
    },
    {
      "cell_type": "code",
      "metadata": {
        "id": "_PBZFPoDgVHM",
        "colab_type": "code",
        "colab": {}
      },
      "source": [
        "%load_ext autoreload\n",
        "%autoreload 2"
      ],
      "execution_count": 0,
      "outputs": []
    },
    {
      "cell_type": "code",
      "metadata": {
        "id": "JhzvbwOWgWOS",
        "colab_type": "code",
        "colab": {}
      },
      "source": [
        "project_path = Path('./Handwritten-RNNs/Handwritten-RNNs')\n",
        "data_path = project_path/'data'"
      ],
      "execution_count": 0,
      "outputs": []
    },
    {
      "cell_type": "code",
      "metadata": {
        "id": "lmO8E_zwgXbo",
        "colab_type": "code",
        "colab": {}
      },
      "source": [
        "# Load data\n",
        "strokes = np.load(data_path/'strokes-py3.npy', allow_pickle=True)\n",
        "with open(data_path/'sentences.txt') as f:\n",
        "    texts = f.readlines()"
      ],
      "execution_count": 0,
      "outputs": []
    },
    {
      "cell_type": "code",
      "metadata": {
        "id": "6ZIZAllWkd66",
        "colab_type": "code",
        "outputId": "ae76f599-f7e0-48f2-a6d4-bddcbd7e36fb",
        "colab": {
          "base_uri": "https://localhost:8080/",
          "height": 34
        }
      },
      "source": [
        "# Process text data\n",
        "process_text = ProcessText()\n",
        "# tokenize\n",
        "char_list = process_text.tokenize(texts)\n",
        "char_list[3][:10]"
      ],
      "execution_count": 13,
      "outputs": [
        {
          "output_type": "execute_result",
          "data": {
            "text/plain": [
              "['<start>', 'p', 'r', 'e', 'v', 'i', 'o', 'u', 's', ' ']"
            ]
          },
          "metadata": {
            "tags": []
          },
          "execution_count": 13
        }
      ]
    },
    {
      "cell_type": "code",
      "metadata": {
        "id": "jUEnXn-cmRzf",
        "colab_type": "code",
        "outputId": "15dc334f-91c6-4a84-edef-262d7dcfd1ca",
        "colab": {
          "base_uri": "https://localhost:8080/",
          "height": 34
        }
      },
      "source": [
        "# create vocab\n",
        "word2idx,idx2word = process_text.create_vocab()\n",
        "len(word2idx)"
      ],
      "execution_count": 14,
      "outputs": [
        {
          "output_type": "execute_result",
          "data": {
            "text/plain": [
              "80"
            ]
          },
          "metadata": {
            "tags": []
          },
          "execution_count": 14
        }
      ]
    },
    {
      "cell_type": "code",
      "metadata": {
        "id": "p8WTOijZmeG5",
        "colab_type": "code",
        "outputId": "bdb262c0-6afd-4b6c-873a-0c44edddb8fd",
        "colab": {
          "base_uri": "https://localhost:8080/",
          "height": 34
        }
      },
      "source": [
        "# numericalize\n",
        "char_data = process_text.numericalize()\n",
        "char_data[3][:10]"
      ],
      "execution_count": 15,
      "outputs": [
        {
          "output_type": "execute_result",
          "data": {
            "text/plain": [
              "[26, 69, 71, 58, 75, 62, 68, 74, 72, 1]"
            ]
          },
          "metadata": {
            "tags": []
          },
          "execution_count": 15
        }
      ]
    },
    {
      "cell_type": "code",
      "metadata": {
        "id": "JCyOxWppj7fk",
        "colab_type": "code",
        "outputId": "05271281-6b39-4ba6-9ef4-651ad8b85319",
        "colab": {
          "base_uri": "https://localhost:8080/",
          "height": 34
        }
      },
      "source": [
        "# sanity check\n",
        "len(char_data[0]),len(char_list[0])"
      ],
      "execution_count": 16,
      "outputs": [
        {
          "output_type": "execute_result",
          "data": {
            "text/plain": [
              "(28, 28)"
            ]
          },
          "metadata": {
            "tags": []
          },
          "execution_count": 16
        }
      ]
    },
    {
      "cell_type": "code",
      "metadata": {
        "id": "WW-JBExqGAHI",
        "colab_type": "code",
        "colab": {}
      },
      "source": [
        "# normalize and add tokens to strokes\n",
        "process_strokes = ProcessStrokes()\n",
        "norm_strokes = process_strokes.normalize(copy.deepcopy(strokes))\n",
        "final_strokes =  process_strokes.add_tokens(copy.deepcopy(norm_strokes))"
      ],
      "execution_count": 0,
      "outputs": []
    },
    {
      "cell_type": "code",
      "metadata": {
        "id": "n27ypBNKCs8B",
        "colab_type": "code",
        "outputId": "ef46391f-96e1-4f99-937c-5f919b3feb5b",
        "colab": {
          "base_uri": "https://localhost:8080/",
          "height": 34
        }
      },
      "source": [
        "# 10% data for validation \n",
        "cutoff = round(0.1*len(final_strokes))\n",
        "cutoff"
      ],
      "execution_count": 0,
      "outputs": [
        {
          "output_type": "execute_result",
          "data": {
            "text/plain": [
              "600"
            ]
          },
          "metadata": {
            "tags": []
          },
          "execution_count": 12
        }
      ]
    },
    {
      "cell_type": "code",
      "metadata": {
        "id": "Rnl86npmI9IN",
        "colab_type": "code",
        "colab": {}
      },
      "source": [
        "# Split data\n",
        "train_data = char_data[cutoff:],final_strokes[cutoff:]\n",
        "valid_data = char_data[:cutoff],final_strokes[:cutoff]"
      ],
      "execution_count": 0,
      "outputs": []
    },
    {
      "cell_type": "code",
      "metadata": {
        "id": "5DSkXjiuCuy1",
        "colab_type": "code",
        "colab": {}
      },
      "source": [
        "# Custom Dataset\n",
        "train_dataset = CustomDataset(*train_data)\n",
        "valid_dataset = CustomDataset(*valid_data)"
      ],
      "execution_count": 0,
      "outputs": []
    },
    {
      "cell_type": "code",
      "metadata": {
        "id": "YGrh03ddIq5u",
        "colab_type": "code",
        "outputId": "2303ecbc-9f5e-4de0-9280-f5a732454f2a",
        "colab": {
          "base_uri": "https://localhost:8080/",
          "height": 34
        }
      },
      "source": [
        "len(train_dataset), len(valid_dataset)"
      ],
      "execution_count": 0,
      "outputs": [
        {
          "output_type": "execute_result",
          "data": {
            "text/plain": [
              "(5400, 600)"
            ]
          },
          "metadata": {
            "tags": []
          },
          "execution_count": 15
        }
      ]
    },
    {
      "cell_type": "code",
      "metadata": {
        "id": "_BFbwiylpsqO",
        "colab_type": "code",
        "colab": {}
      },
      "source": [
        "# Using a custom collate_fn\n",
        "train_loader = DataLoader(train_dataset,batch_size=256,shuffle=True,collate_fn=custom_collate)\n",
        "valid_loader = DataLoader(valid_dataset,batch_size=300,collate_fn=custom_collate)"
      ],
      "execution_count": 0,
      "outputs": []
    },
    {
      "cell_type": "code",
      "metadata": {
        "id": "pG5rEpoRNaBI",
        "colab_type": "code",
        "outputId": "b42a93c4-53b5-4cf7-c661-03dac7f45461",
        "colab": {
          "base_uri": "https://localhost:8080/",
          "height": 34
        }
      },
      "source": [
        "# If GPU available\n",
        "if torch.cuda.is_available():\n",
        "    print(\"Using the GPU\")\n",
        "    device = torch.device(\"cuda\")\n",
        "else:\n",
        "    print(\"Using CPU\")\n",
        "    device = torch.device(\"cpu\")"
      ],
      "execution_count": 0,
      "outputs": [
        {
          "output_type": "stream",
          "text": [
            "Using the GPU\n"
          ],
          "name": "stdout"
        }
      ]
    },
    {
      "cell_type": "code",
      "metadata": {
        "id": "gtazhxJu3Go0",
        "colab_type": "code",
        "colab": {}
      },
      "source": [
        "# detach hidden states to prevent backprop through the entire sequence\n",
        "def repackage_hidden(new_state):\n",
        "    if isinstance(new_state,torch.Tensor): \n",
        "        return new_state.detach()\n",
        "    else: \n",
        "        return tuple(repackage_hidden(h) for h in new_state)"
      ],
      "execution_count": 0,
      "outputs": []
    },
    {
      "cell_type": "code",
      "metadata": {
        "id": "QXsLiZtQqyS-",
        "colab_type": "code",
        "colab": {}
      },
      "source": [
        "# split the incoming data into chunks of bptt length\n",
        "bptt = 400\n",
        "def train_epoch(model, train_loader,opt,len_train,clip_norm):\n",
        "    model.train()\n",
        "    train_metric.reset_state()\n",
        "    new_state = None\n",
        "    for x,y in tqdm(train_loader,total=len_train):\n",
        "        x,y = x.to(device), y.to(device)\n",
        "        state,kappa = None, 0\n",
        "        context = torch.zeros((x.size(0),1,enc_sz),dtype=torch.float32).to(device)\n",
        "\n",
        "        for i in range(math.ceil(y.size(1)/bptt)):\n",
        "            y_inp = y[:,i*bptt:(i+1)*bptt]     \n",
        "            y_op = y[:,i*bptt+1:(i+1)*bptt+1] # remove first token\n",
        "            if y_inp.size() != y_op.size(): # last bptt element\n",
        "                pad = torch.as_tensor([4,0.,0.]).view(1,1,-1).expand(y_inp.size(0),1,3).to(device)\n",
        "                y_op = torch.cat([y_op,pad],1)\n",
        "\n",
        "            params, state, context, kappa = model(x,y_inp,state,context,kappa)\n",
        "            state, context, kappa = repackage_hidden((state, context, kappa))\n",
        "            loss = mask_loss_func(params,y_op)\n",
        "            train_metric.update_state(params,y_op)\n",
        "            model.zero_grad()\n",
        "            loss.backward()\n",
        "            nn.utils.clip_grad_norm_(model.parameters(),clip_norm)\n",
        "            opt.step()"
      ],
      "execution_count": 0,
      "outputs": []
    },
    {
      "cell_type": "code",
      "metadata": {
        "id": "hplfS-xLNL8h",
        "colab_type": "code",
        "colab": {}
      },
      "source": [
        "# track metrics for the entire epochs\n",
        "train_metric = LossMetric(mask_end=False)\n",
        "valid_metric = LossMetric(mask_end=False)\n",
        "\n",
        "# loss for the strokes (0,1,start,stop,pad)\n",
        "loss_ce = nn.CrossEntropyLoss(reduction='none')"
      ],
      "execution_count": 0,
      "outputs": []
    },
    {
      "cell_type": "code",
      "metadata": {
        "id": "Jfjs5e8-JFxT",
        "colab_type": "code",
        "colab": {}
      },
      "source": [
        "# Mask only padding this case\n",
        "def mask_loss_func(preds, y_true):\n",
        "    intrp,coords = y_true[:,:,0].long(), y_true[:,:,1:]\n",
        "    mask = (~(intrp==4)).float()\n",
        "    ce_preds,pi = preds[:2]\n",
        "    ce_preds = ce_preds.transpose(-1,1)\n",
        "    ce = loss_ce(ce_preds, intrp)\n",
        "    ce = mask*ce\n",
        "\n",
        "    probs = pi*calc_prob(coords,* preds[2:]) \n",
        "    probs = torch.sum(probs,-1)\n",
        "    nll = -mask*(torch.log(probs+ 1e-10))\n",
        "    if torch.isnan(nll.sum()):\n",
        "        pdb.set_trace()\n",
        "    return (ce.sum()+ nll.sum()) /mask.sum()"
      ],
      "execution_count": 0,
      "outputs": []
    },
    {
      "cell_type": "code",
      "metadata": {
        "id": "sZsQ3K7hJDLh",
        "colab_type": "code",
        "colab": {}
      },
      "source": [
        "def valid_epoch(model, valid_loader,len_val):\n",
        "    model.eval()\n",
        "    valid_metric.reset_state()\n",
        "    with torch.no_grad():\n",
        "        for x,y in valid_loader:\n",
        "            state,kappa = None, 0\n",
        "            context = torch.zeros((x.size(0),1,enc_sz),dtype=torch.float32).to(device)\n",
        "            x,y = x.to(device), y.to(device)\n",
        "            params = model(x, y[:,:-1], state, context, kappa)[0]\n",
        "            valid_metric.update_state(params,y[:,1:])"
      ],
      "execution_count": 0,
      "outputs": []
    },
    {
      "cell_type": "code",
      "metadata": {
        "id": "M_xiN-ciI4Pi",
        "colab_type": "code",
        "colab": {}
      },
      "source": [
        "def fit(model,epochs,max_lr,clip=0.4,wd=0):\n",
        "\n",
        "    opt = torch.optim.AdamW(model.parameters(), lr = max_lr, weight_decay=wd,betas= [0.95,0.999])\n",
        "    lr = list(np.linspace(1e-6,max_lr,epochs//2)) + list(np.linspace(max_lr,1e-6,math.ceil(epochs/2)))\n",
        "    mom = list(np.linspace(0.95,0.85,epochs//2)) + list(np.linspace(0.85,0.95,math.ceil(epochs/2)))\n",
        "    train_logs = {'ce_tl':[],'nll_tl':[],'tot_tl':[],'ce_vl':[],'nll_vl':[],'tot_vl':[],}\n",
        "    best_valid_loss = float('inf')\n",
        "    len_train,len_val = len(train_loader), len(valid_loader)\n",
        "    for e in tqdm(range(epochs)):\n",
        "        opt.defaults['lr'] = lr[e]\n",
        "        opt.defaults['betas'][0] = mom[e]\n",
        "        train_epoch(model,train_loader,opt,len_train,clip)\n",
        "        valid_epoch(model, valid_loader, len_val)\n",
        "        ce_tl,nll_tl,tot_tl = train_metric.result()\n",
        "        ce_vl, nll_vl, tot_vl = valid_metric.result()\n",
        "        \n",
        "        if e%3 == 0 or e == epochs-1:\n",
        "            tqdm.write(f'\\nEpoch:{e}  Train Loss: {tot_tl:.4f}  Valid Loss: {tot_vl:.4f}    Best Valid:{best_valid_loss:.3f}') \n",
        "                    \n",
        "        if  tot_vl < best_valid_loss:\n",
        "            best_valid_loss = tot_vl\n",
        "            best_model = copy.deepcopy(model)\n",
        "        \n",
        "        train_logs['tot_tl'].append(tot_tl)\n",
        "        train_logs['ce_tl'].append(ce_tl)\n",
        "        train_logs['nll_tl'].append(nll_tl)\n",
        "        train_logs['tot_vl'].append(tot_vl)\n",
        "        train_logs['ce_vl'].append(ce_vl)\n",
        "        train_logs['nll_vl'].append(nll_vl)\n",
        "\n",
        "    return best_model.to(device), train_logs"
      ],
      "execution_count": 0,
      "outputs": []
    },
    {
      "cell_type": "code",
      "metadata": {
        "id": "gKtryvtRJpLj",
        "colab_type": "code",
        "colab": {}
      },
      "source": [
        "enc_sz = 70\n",
        "model = Synthesis(enc_sz,dec_sz = 30,att_hd = 20,n_g = 20)\n",
        "model.to(device);"
      ],
      "execution_count": 0,
      "outputs": []
    },
    {
      "cell_type": "code",
      "metadata": {
        "id": "3QGY4MswRITB",
        "colab_type": "code",
        "colab": {}
      },
      "source": [
        "model,logs = fit(model,100,3e-3,clip=0.4)"
      ],
      "execution_count": 0,
      "outputs": []
    },
    {
      "cell_type": "code",
      "metadata": {
        "id": "Rikd8JUvyKbx",
        "colab_type": "code",
        "colab": {}
      },
      "source": [
        "model,logs = fit(model,50,3e-4,clip=0.35,wd=0)"
      ],
      "execution_count": 0,
      "outputs": []
    },
    {
      "cell_type": "code",
      "metadata": {
        "colab_type": "code",
        "id": "2amAC98YnxYw",
        "colab": {}
      },
      "source": [
        "model,logs = fit(model,50,5e-5,clip=0.3,wd=0)"
      ],
      "execution_count": 0,
      "outputs": []
    },
    {
      "cell_type": "code",
      "metadata": {
        "id": "goBdj3ZMtig6",
        "colab_type": "code",
        "colab": {}
      },
      "source": [
        "#torch.save(model.state_dict(),project_path/'conditional.pt')"
      ],
      "execution_count": 0,
      "outputs": []
    },
    {
      "cell_type": "code",
      "metadata": {
        "id": "umckfJdgNwqR",
        "colab_type": "code",
        "colab": {}
      },
      "source": [
        "# plot one example\n",
        "for x,y in valid_loader:\n",
        "    x = x.to(device)\n",
        "    break"
      ],
      "execution_count": 0,
      "outputs": []
    },
    {
      "cell_type": "code",
      "metadata": {
        "id": "Zj7YZNdoB0cg",
        "colab_type": "code",
        "colab": {}
      },
      "source": [
        "prod,score = model.generate(x[:50],1500,bias=2,temp=0.9)"
      ],
      "execution_count": 0,
      "outputs": []
    },
    {
      "cell_type": "code",
      "metadata": {
        "id": "t6K4wA8gDeNh",
        "colab_type": "code",
        "outputId": "b932e6ce-1302-4dfb-a9c8-66081ff37bb5",
        "colab": {
          "base_uri": "https://localhost:8080/",
          "height": 34
        }
      },
      "source": [
        "idx = 3\n",
        "one_stroke = process_strokes.denormalize(copy.deepcopy(prod[idx]),True)\n",
        "process_text.num2sent(x.cpu()[idx].tolist())"
      ],
      "execution_count": 0,
      "outputs": [
        {
          "output_type": "execute_result",
          "data": {
            "text/plain": [
              "'previous night. Far more'"
            ]
          },
          "metadata": {
            "tags": []
          },
          "execution_count": 62
        }
      ]
    },
    {
      "cell_type": "code",
      "metadata": {
        "id": "GS-jsGrODwJ3",
        "colab_type": "code",
        "outputId": "5bb5746c-d0ec-4b5b-d8cb-cfa2ce8de8be",
        "colab": {
          "base_uri": "https://localhost:8080/",
          "height": 177
        }
      },
      "source": [
        "plot_stroke(one_stroke)"
      ],
      "execution_count": 0,
      "outputs": [
        {
          "output_type": "display_data",
          "data": {
            "image/png": "[encoded data removed]",
            "text/plain": [
              "<Figure size 1980.47x360 with 1 Axes>"
            ]
          },
          "metadata": {
            "tags": [],
            "needs_background": "light"
          }
        }
      ]
    }
  ]
}